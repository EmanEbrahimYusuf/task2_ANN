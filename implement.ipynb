{
 "cells": [
  {
   "cell_type": "code",
   "execution_count": 1,
   "metadata": {},
   "outputs": [],
   "source": [
    "from sklearn.utils import shuffle\n",
    "import pandas as pd\n",
    "import numpy as np\n",
    "from sklearn.metrics import confusion_matrix"
   ]
  },
  {
   "cell_type": "code",
   "execution_count": 7,
   "metadata": {},
   "outputs": [
    {
     "data": {
      "text/plain": [
       "(1, 1)"
      ]
     },
     "execution_count": 7,
     "metadata": {},
     "output_type": "execute_result"
    }
   ],
   "source": [
    "x=np.array([[1,2]])\n",
    "y=np.array([[2],[1]])\n",
    "z=np.dot(x,y)\n",
    "z.shape"
   ]
  },
  {
   "cell_type": "code",
   "execution_count": 9,
   "metadata": {},
   "outputs": [
    {
     "name": "stdout",
     "output_type": "stream",
     "text": [
      "1st Input array :  (2, 3)\n",
      "2nd Input array :  (2, 3)\n",
      "Resultant output array:  (2, 3)\n"
     ]
    }
   ],
   "source": [
    "import numpy as geek\n",
    "  \n",
    "in_arr1 = geek.array([[2, -7, 5], [-6, 2, 0]])\n",
    "in_arr2 = geek.array([[0, -7, 8], [5, -2, 9]])\n",
    "   \n",
    "print (\"1st Input array : \", in_arr1.shape)\n",
    "print (\"2nd Input array : \", in_arr2.shape)\n",
    "   \n",
    "    \n",
    "out_arr = geek.multiply(in_arr1, in_arr2) \n",
    "print (\"Resultant output array: \", out_arr.shape) "
   ]
  },
  {
   "cell_type": "code",
   "execution_count": 2,
   "metadata": {},
   "outputs": [],
   "source": [
    "\n",
    "\n",
    "class TaskOne:\n",
    "\n",
    "    def __init__(self,data,columsList,lable1,lable2) -> None:\n",
    "        self.weights=np.random.rand(len(columsList))\n",
    "        self.bios=0\n",
    "        self.columsList=columsList\n",
    "        self.lable1=lable1\n",
    "        self.lable2=lable2\n",
    "        self.data=data\n",
    "\n",
    "        self.trainData,self.testData=self.get_data()\n",
    "\n",
    "        print(len(self.trainData),len(self.testData))\n",
    "\n",
    "    def get_data(self):\n",
    "        d1=self.data[self.data['species']==self.lable1]\n",
    "        d1trian,d1test=d1[:30],d1[30:50]\n",
    "        d2=self.data[self.data['species']==self.lable2]\n",
    "        d2trian,d2test=d2[:30],d2[30:50]\n",
    "        datatrain=shuffle(pd.concat([d1trian,d2trian]))\n",
    "        datatest=shuffle(pd.concat([d1test,d2test]))\n",
    "        return datatrain,datatest\n",
    "      \n",
    "    def signum(self,net):\n",
    "        if net>0:\n",
    "            return 1\n",
    "        elif net<0:\n",
    "            return -1\n",
    "        elif net == 0:\n",
    "            return 0 \n",
    "\n",
    "    \n",
    "\n",
    "    def fit(self,learnRate,epochs,biosed=True):\n",
    "        def lable(x):\n",
    "            if x==self.lable1:\n",
    "                return 1\n",
    "            else: return -1\n",
    "        self.trainData['species']=self.trainData['species'].apply(lable)\n",
    "\n",
    "        for i in range(epochs):\n",
    "            for X,Y in zip(self.trainData[self.columsList].values,self.trainData['species'].values):\n",
    "                net=np.dot(self.weights.T,np.array(X))+self.bios\n",
    "                Q=self.signum(net)\n",
    "                loss=Y-Q\n",
    "                self.weights=self.weights+learnRate*loss*X\n",
    "                if biosed:\n",
    "                    self.bios=self.bios+learnRate*loss\n",
    "        return self.weights,self.bios\n",
    "    \n",
    "\n",
    "    def predict(self):\n",
    "        ydash=[]\n",
    "        def lable(x):\n",
    "            if x==self.lable1:\n",
    "                return 1\n",
    "            else: return -1\n",
    "        self.testData['species']=self.testData['species'].apply(lable)\n",
    "\n",
    "        for X in self.testData[self.columsList].values:\n",
    "                net=np.dot(self.weights.T,np.array(X))+self.bios\n",
    "                ydash.append(self.signum(net))\n",
    "\n",
    "        return np.array(ydash)\n",
    "\n",
    "    def score(self):\n",
    "        v=self.predict()\n",
    "        sumCorrectItems=0\n",
    "        \n",
    "        for i,j in zip(v,self.testData['species']):\n",
    "            if i==j:\n",
    "                sumCorrectItems+=1\n",
    "        return sumCorrectItems/len(self.testData)\n",
    "\n",
    "    def confusionMatrix(self):\n",
    "        true1=0\n",
    "        true0=0\n",
    "        false1=0\n",
    "        false0=0\n",
    "        pred=self.predict()\n",
    "    \n",
    "        for i in range(len(self.testData)):\n",
    "            if(pred[i]==1 & self.testData['species'].values[i]==1):\n",
    "                true1+=1\n",
    "            elif(pred[i]==-1 & self.testData['species'].values[i]==-1):\n",
    "                true0+=1\n",
    "            elif(pred[i]==1 & self.testData['species'].values[i]==-1):\n",
    "                false1+=1\n",
    "            elif(pred[i]==-1 & self.testData['species'].values[i]==1):\n",
    "                false0+=1\n",
    "            \n",
    "        return np.array([[true1,false1],[false0,true0]])\n",
    "        \n",
    "    \n"
   ]
  },
  {
   "cell_type": "code",
   "execution_count": 3,
   "metadata": {},
   "outputs": [
    {
     "data": {
      "text/html": [
       "<div>\n",
       "<style scoped>\n",
       "    .dataframe tbody tr th:only-of-type {\n",
       "        vertical-align: middle;\n",
       "    }\n",
       "\n",
       "    .dataframe tbody tr th {\n",
       "        vertical-align: top;\n",
       "    }\n",
       "\n",
       "    .dataframe thead th {\n",
       "        text-align: right;\n",
       "    }\n",
       "</style>\n",
       "<table border=\"1\" class=\"dataframe\">\n",
       "  <thead>\n",
       "    <tr style=\"text-align: right;\">\n",
       "      <th></th>\n",
       "      <th>species</th>\n",
       "      <th>bill_length_mm</th>\n",
       "      <th>bill_depth_mm</th>\n",
       "      <th>flipper_length_mm</th>\n",
       "      <th>gender</th>\n",
       "      <th>body_mass_g</th>\n",
       "    </tr>\n",
       "  </thead>\n",
       "  <tbody>\n",
       "    <tr>\n",
       "      <th>0</th>\n",
       "      <td>Adelie</td>\n",
       "      <td>39.1</td>\n",
       "      <td>18.7</td>\n",
       "      <td>181</td>\n",
       "      <td>male</td>\n",
       "      <td>3750</td>\n",
       "    </tr>\n",
       "  </tbody>\n",
       "</table>\n",
       "</div>"
      ],
      "text/plain": [
       "  species  bill_length_mm  bill_depth_mm  flipper_length_mm gender  \\\n",
       "0  Adelie            39.1           18.7                181   male   \n",
       "\n",
       "   body_mass_g  \n",
       "0         3750  "
      ]
     },
     "execution_count": 3,
     "metadata": {},
     "output_type": "execute_result"
    }
   ],
   "source": [
    "data =pd.read_csv('penguins.csv')\n",
    "data.head(1)"
   ]
  },
  {
   "cell_type": "code",
   "execution_count": 4,
   "metadata": {},
   "outputs": [
    {
     "data": {
      "text/plain": [
       "species              0\n",
       "bill_length_mm       0\n",
       "bill_depth_mm        0\n",
       "flipper_length_mm    0\n",
       "gender               6\n",
       "body_mass_g          0\n",
       "dtype: int64"
      ]
     },
     "execution_count": 4,
     "metadata": {},
     "output_type": "execute_result"
    }
   ],
   "source": [
    "data.isna().sum()"
   ]
  },
  {
   "cell_type": "code",
   "execution_count": 5,
   "metadata": {},
   "outputs": [
    {
     "data": {
      "text/plain": [
       "array(['male', 'female', nan], dtype=object)"
      ]
     },
     "execution_count": 5,
     "metadata": {},
     "output_type": "execute_result"
    }
   ],
   "source": [
    "data['gender'].unique()"
   ]
  },
  {
   "cell_type": "code",
   "execution_count": 6,
   "metadata": {},
   "outputs": [
    {
     "data": {
      "text/plain": [
       "0    female\n",
       "1      male\n",
       "Name: gender, dtype: object"
      ]
     },
     "execution_count": 6,
     "metadata": {},
     "output_type": "execute_result"
    }
   ],
   "source": [
    "data['gender'].mode()"
   ]
  },
  {
   "cell_type": "code",
   "execution_count": 7,
   "metadata": {},
   "outputs": [],
   "source": [
    "data['gender'].fillna('male',inplace=True)"
   ]
  },
  {
   "cell_type": "code",
   "execution_count": 8,
   "metadata": {},
   "outputs": [
    {
     "data": {
      "text/plain": [
       "array(['male', 'female'], dtype=object)"
      ]
     },
     "execution_count": 8,
     "metadata": {},
     "output_type": "execute_result"
    }
   ],
   "source": [
    "data['gender'].unique()"
   ]
  },
  {
   "cell_type": "code",
   "execution_count": 9,
   "metadata": {},
   "outputs": [],
   "source": [
    "def genderlable(x):\n",
    "    if x=='male':\n",
    "        return 1\n",
    "    else :return 0\n",
    "data['gender']=data['gender'].apply(genderlable)"
   ]
  },
  {
   "cell_type": "code",
   "execution_count": 10,
   "metadata": {},
   "outputs": [
    {
     "data": {
      "text/html": [
       "<div>\n",
       "<style scoped>\n",
       "    .dataframe tbody tr th:only-of-type {\n",
       "        vertical-align: middle;\n",
       "    }\n",
       "\n",
       "    .dataframe tbody tr th {\n",
       "        vertical-align: top;\n",
       "    }\n",
       "\n",
       "    .dataframe thead th {\n",
       "        text-align: right;\n",
       "    }\n",
       "</style>\n",
       "<table border=\"1\" class=\"dataframe\">\n",
       "  <thead>\n",
       "    <tr style=\"text-align: right;\">\n",
       "      <th></th>\n",
       "      <th>species</th>\n",
       "      <th>bill_length_mm</th>\n",
       "      <th>bill_depth_mm</th>\n",
       "      <th>flipper_length_mm</th>\n",
       "      <th>gender</th>\n",
       "      <th>body_mass_g</th>\n",
       "    </tr>\n",
       "  </thead>\n",
       "  <tbody>\n",
       "    <tr>\n",
       "      <th>0</th>\n",
       "      <td>Adelie</td>\n",
       "      <td>39.1</td>\n",
       "      <td>18.7</td>\n",
       "      <td>181</td>\n",
       "      <td>1</td>\n",
       "      <td>3750</td>\n",
       "    </tr>\n",
       "    <tr>\n",
       "      <th>1</th>\n",
       "      <td>Adelie</td>\n",
       "      <td>39.5</td>\n",
       "      <td>17.4</td>\n",
       "      <td>186</td>\n",
       "      <td>0</td>\n",
       "      <td>3800</td>\n",
       "    </tr>\n",
       "    <tr>\n",
       "      <th>2</th>\n",
       "      <td>Adelie</td>\n",
       "      <td>40.3</td>\n",
       "      <td>18.0</td>\n",
       "      <td>195</td>\n",
       "      <td>0</td>\n",
       "      <td>3250</td>\n",
       "    </tr>\n",
       "    <tr>\n",
       "      <th>3</th>\n",
       "      <td>Adelie</td>\n",
       "      <td>39.6</td>\n",
       "      <td>17.7</td>\n",
       "      <td>186</td>\n",
       "      <td>0</td>\n",
       "      <td>3500</td>\n",
       "    </tr>\n",
       "    <tr>\n",
       "      <th>4</th>\n",
       "      <td>Adelie</td>\n",
       "      <td>36.7</td>\n",
       "      <td>19.3</td>\n",
       "      <td>193</td>\n",
       "      <td>0</td>\n",
       "      <td>3450</td>\n",
       "    </tr>\n",
       "  </tbody>\n",
       "</table>\n",
       "</div>"
      ],
      "text/plain": [
       "  species  bill_length_mm  bill_depth_mm  flipper_length_mm  gender  \\\n",
       "0  Adelie            39.1           18.7                181       1   \n",
       "1  Adelie            39.5           17.4                186       0   \n",
       "2  Adelie            40.3           18.0                195       0   \n",
       "3  Adelie            39.6           17.7                186       0   \n",
       "4  Adelie            36.7           19.3                193       0   \n",
       "\n",
       "   body_mass_g  \n",
       "0         3750  \n",
       "1         3800  \n",
       "2         3250  \n",
       "3         3500  \n",
       "4         3450  "
      ]
     },
     "execution_count": 10,
     "metadata": {},
     "output_type": "execute_result"
    }
   ],
   "source": [
    "data.head()"
   ]
  },
  {
   "cell_type": "code",
   "execution_count": 11,
   "metadata": {},
   "outputs": [
    {
     "data": {
      "text/plain": [
       "array(['Adelie', 'Gentoo', 'Chinstrap'], dtype=object)"
      ]
     },
     "execution_count": 11,
     "metadata": {},
     "output_type": "execute_result"
    }
   ],
   "source": [
    "data.species.unique()"
   ]
  },
  {
   "cell_type": "code",
   "execution_count": 12,
   "metadata": {},
   "outputs": [
    {
     "data": {
      "text/plain": [
       "Index(['species', 'bill_length_mm', 'bill_depth_mm', 'flipper_length_mm',\n",
       "       'gender', 'body_mass_g'],\n",
       "      dtype='object')"
      ]
     },
     "execution_count": 12,
     "metadata": {},
     "output_type": "execute_result"
    }
   ],
   "source": [
    "data.columns"
   ]
  },
  {
   "cell_type": "code",
   "execution_count": 15,
   "metadata": {},
   "outputs": [
    {
     "name": "stdout",
     "output_type": "stream",
     "text": [
      "30 20\n",
      "1.0\n"
     ]
    },
    {
     "data": {
      "text/plain": [
       "array([[20,  0],\n",
       "       [ 0,  0]])"
      ]
     },
     "execution_count": 15,
     "metadata": {},
     "output_type": "execute_result"
    }
   ],
   "source": [
    "model=TaskOne(data,['bill_depth_mm', 'flipper_length_mm',],'Adelie','chinstrap')\n",
    "model.fit(0.01,1000)\n",
    "print(model.score())\n",
    "model.confusionMatrix()"
   ]
  }
 ],
 "metadata": {
  "kernelspec": {
   "display_name": "Python 3.10.4 64-bit",
   "language": "python",
   "name": "python3"
  },
  "language_info": {
   "codemirror_mode": {
    "name": "ipython",
    "version": 3
   },
   "file_extension": ".py",
   "mimetype": "text/x-python",
   "name": "python",
   "nbconvert_exporter": "python",
   "pygments_lexer": "ipython3",
   "version": "3.10.4"
  },
  "orig_nbformat": 4,
  "vscode": {
   "interpreter": {
    "hash": "233ad431e8d7aa343f2112bd8740bb68e0f289d36ba305e836ef6a9dadbbd457"
   }
  }
 },
 "nbformat": 4,
 "nbformat_minor": 2
}
